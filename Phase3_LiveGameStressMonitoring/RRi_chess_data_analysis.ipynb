{
 "cells": [
  {
   "cell_type": "code",
   "execution_count": 2,
   "metadata": {
    "collapsed": true,
    "ExecuteTime": {
     "end_time": "2024-12-10T20:08:43.023994300Z",
     "start_time": "2024-12-10T20:08:43.002536100Z"
    }
   },
   "outputs": [],
   "source": [
    "import pandas as pd\n",
    "import re\n",
    "import numpy as np\n",
    "import matplotlib.pyplot as plt"
   ]
  },
  {
   "cell_type": "code",
   "execution_count": 19,
   "outputs": [],
   "source": [
    "import re\n",
    "import pandas as pd\n",
    "\n",
    "# Raw chess game data split into white and black move strings\n",
    "chess_data_white = \"\"\"\n",
    "1. e4 {[%clk 0:02:01][%timestamp 1]}\n",
    "2. Nc3 {[%clk 0:02:01.2][%timestamp 8]}\n",
    "3. f4 {[%clk 0:02:01.8][%timestamp 4]}\n",
    "4. Nf3 {[%clk 0:02:02.3][%timestamp 5]}\n",
    "5. Bb5 {[%clk 0:02:02.7][%timestamp 6]}\n",
    "6. a4 {[%clk 0:02:01.9][%timestamp 18]}\n",
    "7. O-O {[%clk 0:02:02.2][%timestamp 7]}\n",
    "8. e5 {[%clk 0:02:01.6][%timestamp 16]}\n",
    "9. Ne4 {[%clk 0:01:59.9][%timestamp 27]}\n",
    "10. Nxc5 {[%clk 0:01:58.8][%timestamp 21]}\n",
    "11. Bxc6 {[%clk 0:01:45.9][%timestamp 139]}\n",
    "12. Nxd4 {[%clk 0:01:44.3][%timestamp 26]}\n",
    "13. Kh1 {[%clk 0:01:44.6][%timestamp 7]}\n",
    "14. c3 {[%clk 0:01:45][%timestamp 6]}\n",
    "15. d4 {[%clk 0:01:45.2][%timestamp 8]}\n",
    "16. a5 {[%clk 0:01:45][%timestamp 12]}\n",
    "17. b3 {[%clk 0:01:36.7][%timestamp 93]}\n",
    "18. Ba3 {[%clk 0:01:36.7][%timestamp 10]}\n",
    "19. Bb4 {[%clk 0:01:35.5][%timestamp 22]}\n",
    "20. Qxf1 {[%clk 0:01:36.4][%timestamp 1]}\n",
    "21. Rxf1 {[%clk 0:01:37.2][%timestamp 2]}\n",
    "\"\"\"\n",
    "\n",
    "chess_data_black = \"\"\"\n",
    "1... c5 {[%clk 0:01:59.3][%timestamp 17]}\n",
    "2... Nc6 {[%clk 0:01:58.2][%timestamp 21]}\n",
    "3... g6 {[%clk 0:01:58.3][%timestamp 9]}\n",
    "4... Bg7 {[%clk 0:01:55.2][%timestamp 41]}\n",
    "5... Nd4 {[%clk 0:01:53.7][%timestamp 25]}\n",
    "6... e6 {[%clk 0:01:51.3][%timestamp 34]}\n",
    "7... Ne7 {[%clk 0:01:50.9][%timestamp 14]}\n",
    "8... Nec6 {[%clk 0:01:43.5][%timestamp 84]}\n",
    "9... O-O {[%clk 0:01:39.1][%timestamp 54]}\n",
    "10... Qb6 {[%clk 0:01:12.8][%timestamp 273]}\n",
    "11... Qxc5 {[%clk 0:01:05.3][%timestamp 85]}\n",
    "12... Qxd4+ {[%clk 0:01:05.3][%timestamp 10]}\n",
    "13... bxc6 {[%clk 0:00:59.7][%timestamp 66]}\n",
    "14... Qb6 {[%clk 0:00:58.9][%timestamp 18]}\n",
    "15... d5 {[%clk 0:00:58.2][%timestamp 17]}\n",
    "16... Qb5 {[%clk 0:00:55][%timestamp 42]}\n",
    "17... Ba6 {[%clk 0:00:54.3][%timestamp 17]}\n",
    "18... Rfb8 {[%clk 0:00:53.4][%timestamp 19]}\n",
    "19... Qxf1+ {[%clk 0:00:50.6][%timestamp 38]}\n",
    "20... Bxf1 {[%clk 0:00:50.5][%timestamp 11]}\n",
    "21... Rb7 {[%clk 0:00:49.3][%timestamp 22]}\n",
    "\"\"\"\n",
    "\n",
    "# Define regex patterns for white and black moves\n",
    "white_move_pattern = re.compile(r\"(\\d+)\\.\\s(\\S+)\\s\\{\\[%clk\\s+([^\\]]+)\\]\\[%timestamp\\s+(\\d+)\\]\\}\")\n",
    "black_move_pattern = re.compile(r\"(\\d+)\\.\\.\\.\\s(\\S+)\\s\\{\\[%clk\\s+([^\\]]+)\\]\\[%timestamp\\s+(\\d+)\\]\\}\")\n",
    "\n",
    "# Extract white moves\n",
    "white_moves = re.findall(white_move_pattern, chess_data_white)\n",
    "black_moves = re.findall(black_move_pattern, chess_data_black)\n",
    "\n",
    "# Initialize lists for parsed data\n",
    "move_number = []\n",
    "white_move = []\n",
    "white_clock = []\n",
    "white_timestamp = []\n",
    "black_move = []\n",
    "black_clock = []\n",
    "black_timestamp = []\n",
    "\n",
    "# Populate data from parsed white and black moves\n",
    "for white, black in zip(white_moves, black_moves):\n",
    "    move_number.append(int(white[0]))\n",
    "    white_move.append(white[1])\n",
    "    white_clock.append(white[2])\n",
    "    white_timestamp.append(int(white[3]))\n",
    "    black_move.append(black[1])\n",
    "    black_clock.append(black[2])\n",
    "    black_timestamp.append(int(black[3]))\n",
    "\n",
    "# Create a DataFrame from parsed data\n",
    "chess_df = pd.DataFrame({\n",
    "    \"Move Number\": move_number,\n",
    "    \"White Move\": white_move,\n",
    "    \"White Clock\": white_clock,\n",
    "    \"White Thinking Time\": white_timestamp,\n",
    "    \"Black Move\": black_move,\n",
    "    \"Black Clock\": black_clock,\n",
    "    \"Black Thinking Time\": black_timestamp\n",
    "})\n"
   ],
   "metadata": {
    "collapsed": false,
    "ExecuteTime": {
     "end_time": "2024-12-10T20:09:32.245398600Z",
     "start_time": "2024-12-10T20:09:32.242027100Z"
    }
   }
  },
  {
   "cell_type": "code",
   "execution_count": 20,
   "outputs": [
    {
     "data": {
      "text/plain": "    Move Number White Move White Clock  White Thinking Time Black Move  \\\n0             1         e4     0:02:01                    1         c5   \n1             2        Nc3   0:02:01.2                    8        Nc6   \n2             3         f4   0:02:01.8                    4         g6   \n3             4        Nf3   0:02:02.3                    5        Bg7   \n4             5        Bb5   0:02:02.7                    6        Nd4   \n5             6         a4   0:02:01.9                   18         e6   \n6             7        O-O   0:02:02.2                    7        Ne7   \n7             8         e5   0:02:01.6                   16       Nec6   \n8             9        Ne4   0:01:59.9                   27        O-O   \n9            10       Nxc5   0:01:58.8                   21        Qb6   \n10           11       Bxc6   0:01:45.9                  139       Qxc5   \n11           12       Nxd4   0:01:44.3                   26      Qxd4+   \n12           13        Kh1   0:01:44.6                    7       bxc6   \n13           14         c3     0:01:45                    6        Qb6   \n14           15         d4   0:01:45.2                    8         d5   \n15           16         a5     0:01:45                   12        Qb5   \n16           17         b3   0:01:36.7                   93        Ba6   \n17           18        Ba3   0:01:36.7                   10       Rfb8   \n18           19        Bb4   0:01:35.5                   22      Qxf1+   \n19           20       Qxf1   0:01:36.4                    1       Bxf1   \n20           21       Rxf1   0:01:37.2                    2        Rb7   \n\n   Black Clock  Black Thinking Time  \n0    0:01:59.3                   17  \n1    0:01:58.2                   21  \n2    0:01:58.3                    9  \n3    0:01:55.2                   41  \n4    0:01:53.7                   25  \n5    0:01:51.3                   34  \n6    0:01:50.9                   14  \n7    0:01:43.5                   84  \n8    0:01:39.1                   54  \n9    0:01:12.8                  273  \n10   0:01:05.3                   85  \n11   0:01:05.3                   10  \n12   0:00:59.7                   66  \n13   0:00:58.9                   18  \n14   0:00:58.2                   17  \n15     0:00:55                   42  \n16   0:00:54.3                   17  \n17   0:00:53.4                   19  \n18   0:00:50.6                   38  \n19   0:00:50.5                   11  \n20   0:00:49.3                   22  ",
      "text/html": "<div>\n<style scoped>\n    .dataframe tbody tr th:only-of-type {\n        vertical-align: middle;\n    }\n\n    .dataframe tbody tr th {\n        vertical-align: top;\n    }\n\n    .dataframe thead th {\n        text-align: right;\n    }\n</style>\n<table border=\"1\" class=\"dataframe\">\n  <thead>\n    <tr style=\"text-align: right;\">\n      <th></th>\n      <th>Move Number</th>\n      <th>White Move</th>\n      <th>White Clock</th>\n      <th>White Thinking Time</th>\n      <th>Black Move</th>\n      <th>Black Clock</th>\n      <th>Black Thinking Time</th>\n    </tr>\n  </thead>\n  <tbody>\n    <tr>\n      <th>0</th>\n      <td>1</td>\n      <td>e4</td>\n      <td>0:02:01</td>\n      <td>1</td>\n      <td>c5</td>\n      <td>0:01:59.3</td>\n      <td>17</td>\n    </tr>\n    <tr>\n      <th>1</th>\n      <td>2</td>\n      <td>Nc3</td>\n      <td>0:02:01.2</td>\n      <td>8</td>\n      <td>Nc6</td>\n      <td>0:01:58.2</td>\n      <td>21</td>\n    </tr>\n    <tr>\n      <th>2</th>\n      <td>3</td>\n      <td>f4</td>\n      <td>0:02:01.8</td>\n      <td>4</td>\n      <td>g6</td>\n      <td>0:01:58.3</td>\n      <td>9</td>\n    </tr>\n    <tr>\n      <th>3</th>\n      <td>4</td>\n      <td>Nf3</td>\n      <td>0:02:02.3</td>\n      <td>5</td>\n      <td>Bg7</td>\n      <td>0:01:55.2</td>\n      <td>41</td>\n    </tr>\n    <tr>\n      <th>4</th>\n      <td>5</td>\n      <td>Bb5</td>\n      <td>0:02:02.7</td>\n      <td>6</td>\n      <td>Nd4</td>\n      <td>0:01:53.7</td>\n      <td>25</td>\n    </tr>\n    <tr>\n      <th>5</th>\n      <td>6</td>\n      <td>a4</td>\n      <td>0:02:01.9</td>\n      <td>18</td>\n      <td>e6</td>\n      <td>0:01:51.3</td>\n      <td>34</td>\n    </tr>\n    <tr>\n      <th>6</th>\n      <td>7</td>\n      <td>O-O</td>\n      <td>0:02:02.2</td>\n      <td>7</td>\n      <td>Ne7</td>\n      <td>0:01:50.9</td>\n      <td>14</td>\n    </tr>\n    <tr>\n      <th>7</th>\n      <td>8</td>\n      <td>e5</td>\n      <td>0:02:01.6</td>\n      <td>16</td>\n      <td>Nec6</td>\n      <td>0:01:43.5</td>\n      <td>84</td>\n    </tr>\n    <tr>\n      <th>8</th>\n      <td>9</td>\n      <td>Ne4</td>\n      <td>0:01:59.9</td>\n      <td>27</td>\n      <td>O-O</td>\n      <td>0:01:39.1</td>\n      <td>54</td>\n    </tr>\n    <tr>\n      <th>9</th>\n      <td>10</td>\n      <td>Nxc5</td>\n      <td>0:01:58.8</td>\n      <td>21</td>\n      <td>Qb6</td>\n      <td>0:01:12.8</td>\n      <td>273</td>\n    </tr>\n    <tr>\n      <th>10</th>\n      <td>11</td>\n      <td>Bxc6</td>\n      <td>0:01:45.9</td>\n      <td>139</td>\n      <td>Qxc5</td>\n      <td>0:01:05.3</td>\n      <td>85</td>\n    </tr>\n    <tr>\n      <th>11</th>\n      <td>12</td>\n      <td>Nxd4</td>\n      <td>0:01:44.3</td>\n      <td>26</td>\n      <td>Qxd4+</td>\n      <td>0:01:05.3</td>\n      <td>10</td>\n    </tr>\n    <tr>\n      <th>12</th>\n      <td>13</td>\n      <td>Kh1</td>\n      <td>0:01:44.6</td>\n      <td>7</td>\n      <td>bxc6</td>\n      <td>0:00:59.7</td>\n      <td>66</td>\n    </tr>\n    <tr>\n      <th>13</th>\n      <td>14</td>\n      <td>c3</td>\n      <td>0:01:45</td>\n      <td>6</td>\n      <td>Qb6</td>\n      <td>0:00:58.9</td>\n      <td>18</td>\n    </tr>\n    <tr>\n      <th>14</th>\n      <td>15</td>\n      <td>d4</td>\n      <td>0:01:45.2</td>\n      <td>8</td>\n      <td>d5</td>\n      <td>0:00:58.2</td>\n      <td>17</td>\n    </tr>\n    <tr>\n      <th>15</th>\n      <td>16</td>\n      <td>a5</td>\n      <td>0:01:45</td>\n      <td>12</td>\n      <td>Qb5</td>\n      <td>0:00:55</td>\n      <td>42</td>\n    </tr>\n    <tr>\n      <th>16</th>\n      <td>17</td>\n      <td>b3</td>\n      <td>0:01:36.7</td>\n      <td>93</td>\n      <td>Ba6</td>\n      <td>0:00:54.3</td>\n      <td>17</td>\n    </tr>\n    <tr>\n      <th>17</th>\n      <td>18</td>\n      <td>Ba3</td>\n      <td>0:01:36.7</td>\n      <td>10</td>\n      <td>Rfb8</td>\n      <td>0:00:53.4</td>\n      <td>19</td>\n    </tr>\n    <tr>\n      <th>18</th>\n      <td>19</td>\n      <td>Bb4</td>\n      <td>0:01:35.5</td>\n      <td>22</td>\n      <td>Qxf1+</td>\n      <td>0:00:50.6</td>\n      <td>38</td>\n    </tr>\n    <tr>\n      <th>19</th>\n      <td>20</td>\n      <td>Qxf1</td>\n      <td>0:01:36.4</td>\n      <td>1</td>\n      <td>Bxf1</td>\n      <td>0:00:50.5</td>\n      <td>11</td>\n    </tr>\n    <tr>\n      <th>20</th>\n      <td>21</td>\n      <td>Rxf1</td>\n      <td>0:01:37.2</td>\n      <td>2</td>\n      <td>Rb7</td>\n      <td>0:00:49.3</td>\n      <td>22</td>\n    </tr>\n  </tbody>\n</table>\n</div>"
     },
     "metadata": {},
     "output_type": "display_data"
    }
   ],
   "source": [
    "display(chess_df)"
   ],
   "metadata": {
    "collapsed": false,
    "ExecuteTime": {
     "end_time": "2024-12-10T20:09:33.186075200Z",
     "start_time": "2024-12-10T20:09:33.169094Z"
    }
   }
  },
  {
   "cell_type": "code",
   "execution_count": 21,
   "outputs": [
    {
     "name": "stdout",
     "output_type": "stream",
     "text": [
      "<class 'pandas.core.frame.DataFrame'>\n",
      "RangeIndex: 21 entries, 0 to 20\n",
      "Data columns (total 7 columns):\n",
      " #   Column               Non-Null Count  Dtype \n",
      "---  ------               --------------  ----- \n",
      " 0   Move Number          21 non-null     int64 \n",
      " 1   White Move           21 non-null     object\n",
      " 2   White Clock          21 non-null     object\n",
      " 3   White Thinking Time  21 non-null     int64 \n",
      " 4   Black Move           21 non-null     object\n",
      " 5   Black Clock          21 non-null     object\n",
      " 6   Black Thinking Time  21 non-null     int64 \n",
      "dtypes: int64(3), object(4)\n",
      "memory usage: 1.3+ KB\n"
     ]
    }
   ],
   "source": [
    "chess_df.info()"
   ],
   "metadata": {
    "collapsed": false,
    "ExecuteTime": {
     "end_time": "2024-12-10T20:09:33.958738600Z",
     "start_time": "2024-12-10T20:09:33.931465400Z"
    }
   }
  },
  {
   "cell_type": "code",
   "execution_count": 22,
   "outputs": [
    {
     "data": {
      "text/plain": "  White move  Current score state  Unnamed: 2 Black move  \\\n0         e4                 0.25         NaN         c5   \n1        Nc3                 0.28         NaN        Nc6   \n2         f4                -0.16         NaN         g6   \n3        Nf3                -0.19         NaN        Bg7   \n4        Bb5                -0.21         NaN        Nd4   \n\n   Current score state 2  \n0                   0.41  \n1                   0.28  \n2                  -0.16  \n3                  -0.19  \n4                  -0.21  ",
      "text/html": "<div>\n<style scoped>\n    .dataframe tbody tr th:only-of-type {\n        vertical-align: middle;\n    }\n\n    .dataframe tbody tr th {\n        vertical-align: top;\n    }\n\n    .dataframe thead th {\n        text-align: right;\n    }\n</style>\n<table border=\"1\" class=\"dataframe\">\n  <thead>\n    <tr style=\"text-align: right;\">\n      <th></th>\n      <th>White move</th>\n      <th>Current score state</th>\n      <th>Unnamed: 2</th>\n      <th>Black move</th>\n      <th>Current score state 2</th>\n    </tr>\n  </thead>\n  <tbody>\n    <tr>\n      <th>0</th>\n      <td>e4</td>\n      <td>0.25</td>\n      <td>NaN</td>\n      <td>c5</td>\n      <td>0.41</td>\n    </tr>\n    <tr>\n      <th>1</th>\n      <td>Nc3</td>\n      <td>0.28</td>\n      <td>NaN</td>\n      <td>Nc6</td>\n      <td>0.28</td>\n    </tr>\n    <tr>\n      <th>2</th>\n      <td>f4</td>\n      <td>-0.16</td>\n      <td>NaN</td>\n      <td>g6</td>\n      <td>-0.16</td>\n    </tr>\n    <tr>\n      <th>3</th>\n      <td>Nf3</td>\n      <td>-0.19</td>\n      <td>NaN</td>\n      <td>Bg7</td>\n      <td>-0.19</td>\n    </tr>\n    <tr>\n      <th>4</th>\n      <td>Bb5</td>\n      <td>-0.21</td>\n      <td>NaN</td>\n      <td>Nd4</td>\n      <td>-0.21</td>\n    </tr>\n  </tbody>\n</table>\n</div>"
     },
     "execution_count": 22,
     "metadata": {},
     "output_type": "execute_result"
    }
   ],
   "source": [
    "# Load the Excel file\n",
    "file_path = \"Data/Chess.com_data.xlsx\"\n",
    "\n",
    "# Read the Excel file into a DataFrame\n",
    "chess_data_df = pd.read_excel(file_path)\n",
    "\n",
    "# Display the first few rows of the DataFrame to verify the content\n",
    "chess_data_df.head()"
   ],
   "metadata": {
    "collapsed": false,
    "ExecuteTime": {
     "end_time": "2024-12-10T20:09:37.578700300Z",
     "start_time": "2024-12-10T20:09:37.524506Z"
    }
   }
  },
  {
   "cell_type": "code",
   "execution_count": 23,
   "outputs": [
    {
     "data": {
      "text/plain": "   White move  Current score state Black move  Current score state 2\n0          e4                 0.25         c5                   0.41\n1         Nc3                 0.28        Nc6                   0.28\n2          f4                -0.16         g6                  -0.16\n3         Nf3                -0.19        Bg7                  -0.19\n4         Bb5                -0.21        Nd4                  -0.21\n5          a4                -0.32         e6                  -0.10\n6         O-O                -0.27        Ne7                  -0.08\n7          e5                -0.21       Nec6                   1.19\n8         Ne4                 1.19        O-O                   1.19\n9        Nxc5                -0.30        Qb6                  -0.30\n10       Bxc6                -2.82       Qxc5                  -2.82\n11       Nxd4                -3.76      Qxd4+                  -3.76\n12        Kh1                -4.23       bxc6                  -4.23\n13         c3                -4.23        Qb6                  -3.96\n14         d4                -3.96         d5                  -3.05\n15         a5                -3.18        Qb5                  -3.18\n16         b3                -3.36        Ba6                  -3.36\n17        Ba3                -4.10       Rfb8                  -3.53\n18        Bb4                -4.53      Qxf1+                  -4.53\n19       Qxf1                -4.53       Bxf1                  -4.53\n20       Rxf1                -4.53        Rb7                  -3.99",
      "text/html": "<div>\n<style scoped>\n    .dataframe tbody tr th:only-of-type {\n        vertical-align: middle;\n    }\n\n    .dataframe tbody tr th {\n        vertical-align: top;\n    }\n\n    .dataframe thead th {\n        text-align: right;\n    }\n</style>\n<table border=\"1\" class=\"dataframe\">\n  <thead>\n    <tr style=\"text-align: right;\">\n      <th></th>\n      <th>White move</th>\n      <th>Current score state</th>\n      <th>Black move</th>\n      <th>Current score state 2</th>\n    </tr>\n  </thead>\n  <tbody>\n    <tr>\n      <th>0</th>\n      <td>e4</td>\n      <td>0.25</td>\n      <td>c5</td>\n      <td>0.41</td>\n    </tr>\n    <tr>\n      <th>1</th>\n      <td>Nc3</td>\n      <td>0.28</td>\n      <td>Nc6</td>\n      <td>0.28</td>\n    </tr>\n    <tr>\n      <th>2</th>\n      <td>f4</td>\n      <td>-0.16</td>\n      <td>g6</td>\n      <td>-0.16</td>\n    </tr>\n    <tr>\n      <th>3</th>\n      <td>Nf3</td>\n      <td>-0.19</td>\n      <td>Bg7</td>\n      <td>-0.19</td>\n    </tr>\n    <tr>\n      <th>4</th>\n      <td>Bb5</td>\n      <td>-0.21</td>\n      <td>Nd4</td>\n      <td>-0.21</td>\n    </tr>\n    <tr>\n      <th>5</th>\n      <td>a4</td>\n      <td>-0.32</td>\n      <td>e6</td>\n      <td>-0.10</td>\n    </tr>\n    <tr>\n      <th>6</th>\n      <td>O-O</td>\n      <td>-0.27</td>\n      <td>Ne7</td>\n      <td>-0.08</td>\n    </tr>\n    <tr>\n      <th>7</th>\n      <td>e5</td>\n      <td>-0.21</td>\n      <td>Nec6</td>\n      <td>1.19</td>\n    </tr>\n    <tr>\n      <th>8</th>\n      <td>Ne4</td>\n      <td>1.19</td>\n      <td>O-O</td>\n      <td>1.19</td>\n    </tr>\n    <tr>\n      <th>9</th>\n      <td>Nxc5</td>\n      <td>-0.30</td>\n      <td>Qb6</td>\n      <td>-0.30</td>\n    </tr>\n    <tr>\n      <th>10</th>\n      <td>Bxc6</td>\n      <td>-2.82</td>\n      <td>Qxc5</td>\n      <td>-2.82</td>\n    </tr>\n    <tr>\n      <th>11</th>\n      <td>Nxd4</td>\n      <td>-3.76</td>\n      <td>Qxd4+</td>\n      <td>-3.76</td>\n    </tr>\n    <tr>\n      <th>12</th>\n      <td>Kh1</td>\n      <td>-4.23</td>\n      <td>bxc6</td>\n      <td>-4.23</td>\n    </tr>\n    <tr>\n      <th>13</th>\n      <td>c3</td>\n      <td>-4.23</td>\n      <td>Qb6</td>\n      <td>-3.96</td>\n    </tr>\n    <tr>\n      <th>14</th>\n      <td>d4</td>\n      <td>-3.96</td>\n      <td>d5</td>\n      <td>-3.05</td>\n    </tr>\n    <tr>\n      <th>15</th>\n      <td>a5</td>\n      <td>-3.18</td>\n      <td>Qb5</td>\n      <td>-3.18</td>\n    </tr>\n    <tr>\n      <th>16</th>\n      <td>b3</td>\n      <td>-3.36</td>\n      <td>Ba6</td>\n      <td>-3.36</td>\n    </tr>\n    <tr>\n      <th>17</th>\n      <td>Ba3</td>\n      <td>-4.10</td>\n      <td>Rfb8</td>\n      <td>-3.53</td>\n    </tr>\n    <tr>\n      <th>18</th>\n      <td>Bb4</td>\n      <td>-4.53</td>\n      <td>Qxf1+</td>\n      <td>-4.53</td>\n    </tr>\n    <tr>\n      <th>19</th>\n      <td>Qxf1</td>\n      <td>-4.53</td>\n      <td>Bxf1</td>\n      <td>-4.53</td>\n    </tr>\n    <tr>\n      <th>20</th>\n      <td>Rxf1</td>\n      <td>-4.53</td>\n      <td>Rb7</td>\n      <td>-3.99</td>\n    </tr>\n  </tbody>\n</table>\n</div>"
     },
     "execution_count": 23,
     "metadata": {},
     "output_type": "execute_result"
    }
   ],
   "source": [
    "# Drop the 'Unnamed: 2' column and the first row\n",
    "chess_data_df.drop(columns=['Unnamed: 2'], inplace=True, errors='ignore')\n",
    "\n",
    "chess_data_df"
   ],
   "metadata": {
    "collapsed": false,
    "ExecuteTime": {
     "end_time": "2024-12-10T20:09:40.300411200Z",
     "start_time": "2024-12-10T20:09:40.273994500Z"
    }
   }
  },
  {
   "cell_type": "code",
   "execution_count": 24,
   "outputs": [],
   "source": [
    "# Create a new list to concatenate the current score states\n",
    "all_current_scores = []\n",
    "\n",
    "# Interleave values from 'Current Score State' and 'Current Score State 2'\n",
    "for index, row in chess_data_df.iterrows():\n",
    "    all_current_scores.append(row[\"Current score state\"])\n",
    "    all_current_scores.append(row[\"Current score state 2\"])\n",
    "\n",
    "# Create a new DataFrame from the concatenated list\n",
    "current_scores_df = pd.DataFrame(all_current_scores, columns=[\"Current Score\"])\n"
   ],
   "metadata": {
    "collapsed": false,
    "ExecuteTime": {
     "end_time": "2024-12-10T20:09:42.421767800Z",
     "start_time": "2024-12-10T20:09:42.400643100Z"
    }
   }
  },
  {
   "cell_type": "code",
   "execution_count": 9,
   "outputs": [
    {
     "data": {
      "text/plain": "    Current Score\n0            0.25\n1            0.41\n2            0.28\n3            0.28\n4           -0.16\n5           -0.16\n6           -0.19\n7           -0.19\n8           -0.21\n9           -0.21\n10          -0.32\n11          -0.10\n12          -0.27\n13          -0.08\n14          -0.21\n15           1.19\n16           1.19\n17           1.19\n18          -0.30\n19          -0.30\n20          -2.82\n21          -2.82\n22          -3.76\n23          -3.76\n24          -4.23\n25          -4.23\n26          -4.23\n27          -3.96\n28          -3.96\n29          -3.05\n30          -3.18\n31          -3.18\n32          -3.36\n33          -3.36\n34          -4.10\n35          -3.53\n36          -4.53\n37          -4.53\n38          -4.53\n39          -4.53\n40          -4.53\n41          -3.99",
      "text/html": "<div>\n<style scoped>\n    .dataframe tbody tr th:only-of-type {\n        vertical-align: middle;\n    }\n\n    .dataframe tbody tr th {\n        vertical-align: top;\n    }\n\n    .dataframe thead th {\n        text-align: right;\n    }\n</style>\n<table border=\"1\" class=\"dataframe\">\n  <thead>\n    <tr style=\"text-align: right;\">\n      <th></th>\n      <th>Current Score</th>\n    </tr>\n  </thead>\n  <tbody>\n    <tr>\n      <th>0</th>\n      <td>0.25</td>\n    </tr>\n    <tr>\n      <th>1</th>\n      <td>0.41</td>\n    </tr>\n    <tr>\n      <th>2</th>\n      <td>0.28</td>\n    </tr>\n    <tr>\n      <th>3</th>\n      <td>0.28</td>\n    </tr>\n    <tr>\n      <th>4</th>\n      <td>-0.16</td>\n    </tr>\n    <tr>\n      <th>5</th>\n      <td>-0.16</td>\n    </tr>\n    <tr>\n      <th>6</th>\n      <td>-0.19</td>\n    </tr>\n    <tr>\n      <th>7</th>\n      <td>-0.19</td>\n    </tr>\n    <tr>\n      <th>8</th>\n      <td>-0.21</td>\n    </tr>\n    <tr>\n      <th>9</th>\n      <td>-0.21</td>\n    </tr>\n    <tr>\n      <th>10</th>\n      <td>-0.32</td>\n    </tr>\n    <tr>\n      <th>11</th>\n      <td>-0.10</td>\n    </tr>\n    <tr>\n      <th>12</th>\n      <td>-0.27</td>\n    </tr>\n    <tr>\n      <th>13</th>\n      <td>-0.08</td>\n    </tr>\n    <tr>\n      <th>14</th>\n      <td>-0.21</td>\n    </tr>\n    <tr>\n      <th>15</th>\n      <td>1.19</td>\n    </tr>\n    <tr>\n      <th>16</th>\n      <td>1.19</td>\n    </tr>\n    <tr>\n      <th>17</th>\n      <td>1.19</td>\n    </tr>\n    <tr>\n      <th>18</th>\n      <td>-0.30</td>\n    </tr>\n    <tr>\n      <th>19</th>\n      <td>-0.30</td>\n    </tr>\n    <tr>\n      <th>20</th>\n      <td>-2.82</td>\n    </tr>\n    <tr>\n      <th>21</th>\n      <td>-2.82</td>\n    </tr>\n    <tr>\n      <th>22</th>\n      <td>-3.76</td>\n    </tr>\n    <tr>\n      <th>23</th>\n      <td>-3.76</td>\n    </tr>\n    <tr>\n      <th>24</th>\n      <td>-4.23</td>\n    </tr>\n    <tr>\n      <th>25</th>\n      <td>-4.23</td>\n    </tr>\n    <tr>\n      <th>26</th>\n      <td>-4.23</td>\n    </tr>\n    <tr>\n      <th>27</th>\n      <td>-3.96</td>\n    </tr>\n    <tr>\n      <th>28</th>\n      <td>-3.96</td>\n    </tr>\n    <tr>\n      <th>29</th>\n      <td>-3.05</td>\n    </tr>\n    <tr>\n      <th>30</th>\n      <td>-3.18</td>\n    </tr>\n    <tr>\n      <th>31</th>\n      <td>-3.18</td>\n    </tr>\n    <tr>\n      <th>32</th>\n      <td>-3.36</td>\n    </tr>\n    <tr>\n      <th>33</th>\n      <td>-3.36</td>\n    </tr>\n    <tr>\n      <th>34</th>\n      <td>-4.10</td>\n    </tr>\n    <tr>\n      <th>35</th>\n      <td>-3.53</td>\n    </tr>\n    <tr>\n      <th>36</th>\n      <td>-4.53</td>\n    </tr>\n    <tr>\n      <th>37</th>\n      <td>-4.53</td>\n    </tr>\n    <tr>\n      <th>38</th>\n      <td>-4.53</td>\n    </tr>\n    <tr>\n      <th>39</th>\n      <td>-4.53</td>\n    </tr>\n    <tr>\n      <th>40</th>\n      <td>-4.53</td>\n    </tr>\n    <tr>\n      <th>41</th>\n      <td>-3.99</td>\n    </tr>\n  </tbody>\n</table>\n</div>"
     },
     "execution_count": 9,
     "metadata": {},
     "output_type": "execute_result"
    }
   ],
   "source": [
    "current_scores_df"
   ],
   "metadata": {
    "collapsed": false,
    "ExecuteTime": {
     "end_time": "2024-12-10T20:08:43.511255100Z",
     "start_time": "2024-12-10T20:08:43.419219300Z"
    }
   }
  },
  {
   "cell_type": "code",
   "execution_count": 26,
   "outputs": [],
   "source": [
    "output_path = \"Data/Chess/current_scores_chess_df.csv\"\n",
    "current_scores_df.to_csv(output_path, index=False)"
   ],
   "metadata": {
    "collapsed": false,
    "ExecuteTime": {
     "end_time": "2024-12-10T20:10:46.465684700Z",
     "start_time": "2024-12-10T20:10:46.453795400Z"
    }
   }
  },
  {
   "cell_type": "code",
   "execution_count": 10,
   "outputs": [
    {
     "data": {
      "text/plain": "    Thinking Time   Turn    Actual Timestamp\n0               1  White 2024-09-20 14:34:42\n1              17  Black 2024-09-20 14:34:43\n2               8  White 2024-09-20 14:35:00\n3              21  Black 2024-09-20 14:35:08\n4               4  White 2024-09-20 14:35:29\n5               9  Black 2024-09-20 14:35:33\n6               5  White 2024-09-20 14:35:42\n7              41  Black 2024-09-20 14:35:47\n8               6  White 2024-09-20 14:36:28\n9              25  Black 2024-09-20 14:36:34\n10             18  White 2024-09-20 14:36:59\n11             34  Black 2024-09-20 14:37:17\n12              7  White 2024-09-20 14:37:51\n13             14  Black 2024-09-20 14:37:58\n14             16  White 2024-09-20 14:38:12\n15             84  Black 2024-09-20 14:38:28\n16             27  White 2024-09-20 14:39:52\n17             54  Black 2024-09-20 14:40:19\n18             21  White 2024-09-20 14:41:13\n19            273  Black 2024-09-20 14:41:34\n20            139  White 2024-09-20 14:46:07\n21             85  Black 2024-09-20 14:48:26\n22             26  White 2024-09-20 14:49:51\n23             10  Black 2024-09-20 14:50:17\n24              7  White 2024-09-20 14:50:27\n25             66  Black 2024-09-20 14:50:34\n26              6  White 2024-09-20 14:51:40\n27             18  Black 2024-09-20 14:51:46\n28              8  White 2024-09-20 14:52:04\n29             17  Black 2024-09-20 14:52:12\n30             12  White 2024-09-20 14:52:29\n31             42  Black 2024-09-20 14:52:41\n32             93  White 2024-09-20 14:53:23\n33             17  Black 2024-09-20 14:54:56\n34             10  White 2024-09-20 14:55:13\n35             19  Black 2024-09-20 14:55:23\n36             22  White 2024-09-20 14:55:42\n37             38  Black 2024-09-20 14:56:04\n38              1  White 2024-09-20 14:56:42\n39             11  Black 2024-09-20 14:56:43\n40              2  White 2024-09-20 14:56:54\n41             22  Black 2024-09-20 14:56:56",
      "text/html": "<div>\n<style scoped>\n    .dataframe tbody tr th:only-of-type {\n        vertical-align: middle;\n    }\n\n    .dataframe tbody tr th {\n        vertical-align: top;\n    }\n\n    .dataframe thead th {\n        text-align: right;\n    }\n</style>\n<table border=\"1\" class=\"dataframe\">\n  <thead>\n    <tr style=\"text-align: right;\">\n      <th></th>\n      <th>Thinking Time</th>\n      <th>Turn</th>\n      <th>Actual Timestamp</th>\n    </tr>\n  </thead>\n  <tbody>\n    <tr>\n      <th>0</th>\n      <td>1</td>\n      <td>White</td>\n      <td>2024-09-20 14:34:42</td>\n    </tr>\n    <tr>\n      <th>1</th>\n      <td>17</td>\n      <td>Black</td>\n      <td>2024-09-20 14:34:43</td>\n    </tr>\n    <tr>\n      <th>2</th>\n      <td>8</td>\n      <td>White</td>\n      <td>2024-09-20 14:35:00</td>\n    </tr>\n    <tr>\n      <th>3</th>\n      <td>21</td>\n      <td>Black</td>\n      <td>2024-09-20 14:35:08</td>\n    </tr>\n    <tr>\n      <th>4</th>\n      <td>4</td>\n      <td>White</td>\n      <td>2024-09-20 14:35:29</td>\n    </tr>\n    <tr>\n      <th>5</th>\n      <td>9</td>\n      <td>Black</td>\n      <td>2024-09-20 14:35:33</td>\n    </tr>\n    <tr>\n      <th>6</th>\n      <td>5</td>\n      <td>White</td>\n      <td>2024-09-20 14:35:42</td>\n    </tr>\n    <tr>\n      <th>7</th>\n      <td>41</td>\n      <td>Black</td>\n      <td>2024-09-20 14:35:47</td>\n    </tr>\n    <tr>\n      <th>8</th>\n      <td>6</td>\n      <td>White</td>\n      <td>2024-09-20 14:36:28</td>\n    </tr>\n    <tr>\n      <th>9</th>\n      <td>25</td>\n      <td>Black</td>\n      <td>2024-09-20 14:36:34</td>\n    </tr>\n    <tr>\n      <th>10</th>\n      <td>18</td>\n      <td>White</td>\n      <td>2024-09-20 14:36:59</td>\n    </tr>\n    <tr>\n      <th>11</th>\n      <td>34</td>\n      <td>Black</td>\n      <td>2024-09-20 14:37:17</td>\n    </tr>\n    <tr>\n      <th>12</th>\n      <td>7</td>\n      <td>White</td>\n      <td>2024-09-20 14:37:51</td>\n    </tr>\n    <tr>\n      <th>13</th>\n      <td>14</td>\n      <td>Black</td>\n      <td>2024-09-20 14:37:58</td>\n    </tr>\n    <tr>\n      <th>14</th>\n      <td>16</td>\n      <td>White</td>\n      <td>2024-09-20 14:38:12</td>\n    </tr>\n    <tr>\n      <th>15</th>\n      <td>84</td>\n      <td>Black</td>\n      <td>2024-09-20 14:38:28</td>\n    </tr>\n    <tr>\n      <th>16</th>\n      <td>27</td>\n      <td>White</td>\n      <td>2024-09-20 14:39:52</td>\n    </tr>\n    <tr>\n      <th>17</th>\n      <td>54</td>\n      <td>Black</td>\n      <td>2024-09-20 14:40:19</td>\n    </tr>\n    <tr>\n      <th>18</th>\n      <td>21</td>\n      <td>White</td>\n      <td>2024-09-20 14:41:13</td>\n    </tr>\n    <tr>\n      <th>19</th>\n      <td>273</td>\n      <td>Black</td>\n      <td>2024-09-20 14:41:34</td>\n    </tr>\n    <tr>\n      <th>20</th>\n      <td>139</td>\n      <td>White</td>\n      <td>2024-09-20 14:46:07</td>\n    </tr>\n    <tr>\n      <th>21</th>\n      <td>85</td>\n      <td>Black</td>\n      <td>2024-09-20 14:48:26</td>\n    </tr>\n    <tr>\n      <th>22</th>\n      <td>26</td>\n      <td>White</td>\n      <td>2024-09-20 14:49:51</td>\n    </tr>\n    <tr>\n      <th>23</th>\n      <td>10</td>\n      <td>Black</td>\n      <td>2024-09-20 14:50:17</td>\n    </tr>\n    <tr>\n      <th>24</th>\n      <td>7</td>\n      <td>White</td>\n      <td>2024-09-20 14:50:27</td>\n    </tr>\n    <tr>\n      <th>25</th>\n      <td>66</td>\n      <td>Black</td>\n      <td>2024-09-20 14:50:34</td>\n    </tr>\n    <tr>\n      <th>26</th>\n      <td>6</td>\n      <td>White</td>\n      <td>2024-09-20 14:51:40</td>\n    </tr>\n    <tr>\n      <th>27</th>\n      <td>18</td>\n      <td>Black</td>\n      <td>2024-09-20 14:51:46</td>\n    </tr>\n    <tr>\n      <th>28</th>\n      <td>8</td>\n      <td>White</td>\n      <td>2024-09-20 14:52:04</td>\n    </tr>\n    <tr>\n      <th>29</th>\n      <td>17</td>\n      <td>Black</td>\n      <td>2024-09-20 14:52:12</td>\n    </tr>\n    <tr>\n      <th>30</th>\n      <td>12</td>\n      <td>White</td>\n      <td>2024-09-20 14:52:29</td>\n    </tr>\n    <tr>\n      <th>31</th>\n      <td>42</td>\n      <td>Black</td>\n      <td>2024-09-20 14:52:41</td>\n    </tr>\n    <tr>\n      <th>32</th>\n      <td>93</td>\n      <td>White</td>\n      <td>2024-09-20 14:53:23</td>\n    </tr>\n    <tr>\n      <th>33</th>\n      <td>17</td>\n      <td>Black</td>\n      <td>2024-09-20 14:54:56</td>\n    </tr>\n    <tr>\n      <th>34</th>\n      <td>10</td>\n      <td>White</td>\n      <td>2024-09-20 14:55:13</td>\n    </tr>\n    <tr>\n      <th>35</th>\n      <td>19</td>\n      <td>Black</td>\n      <td>2024-09-20 14:55:23</td>\n    </tr>\n    <tr>\n      <th>36</th>\n      <td>22</td>\n      <td>White</td>\n      <td>2024-09-20 14:55:42</td>\n    </tr>\n    <tr>\n      <th>37</th>\n      <td>38</td>\n      <td>Black</td>\n      <td>2024-09-20 14:56:04</td>\n    </tr>\n    <tr>\n      <th>38</th>\n      <td>1</td>\n      <td>White</td>\n      <td>2024-09-20 14:56:42</td>\n    </tr>\n    <tr>\n      <th>39</th>\n      <td>11</td>\n      <td>Black</td>\n      <td>2024-09-20 14:56:43</td>\n    </tr>\n    <tr>\n      <th>40</th>\n      <td>2</td>\n      <td>White</td>\n      <td>2024-09-20 14:56:54</td>\n    </tr>\n    <tr>\n      <th>41</th>\n      <td>22</td>\n      <td>Black</td>\n      <td>2024-09-20 14:56:56</td>\n    </tr>\n  </tbody>\n</table>\n</div>"
     },
     "metadata": {},
     "output_type": "display_data"
    }
   ],
   "source": [
    "import pandas as pd\n",
    "\n",
    "# Create a new dataframe for merged data\n",
    "merged_thinking_times = []\n",
    "turns = []\n",
    "\n",
    "# Zigzag merge of White and Black thinking times, starting with White\n",
    "for index, row in chess_df.iterrows():\n",
    "    merged_thinking_times.append(row['White Thinking Time'])\n",
    "    turns.append('White')\n",
    "    merged_thinking_times.append(row['Black Thinking Time'])\n",
    "    turns.append('Black')\n",
    "\n",
    "# Create a new dataframe with merged thinking times\n",
    "chess_data = pd.DataFrame({\n",
    "    'Thinking Time': merged_thinking_times,\n",
    "    'Turn': turns  # Add a column to identify White or Black move\n",
    "})\n",
    "\n",
    "# Define the game's end time\n",
    "end_time = pd.Timestamp(\"2024-09-20 14:56:56\")\n",
    "\n",
    "# Calculate actual timestamps starting from the end time\n",
    "actual_timestamps = []\n",
    "current_time = end_time\n",
    "\n",
    "# Iterate through thinking times backward\n",
    "for i, time in enumerate(reversed(chess_data['Thinking Time'])):\n",
    "    if i == 0:\n",
    "        # The last move timestamp is exactly the end time\n",
    "        actual_timestamps.append(current_time)\n",
    "    else:\n",
    "        # Subtract the thinking time for other moves\n",
    "        thinking_duration = pd.Timedelta(seconds=time)\n",
    "        current_time -= thinking_duration\n",
    "        actual_timestamps.append(current_time)\n",
    "\n",
    "# Reverse the timestamps to align with the original order\n",
    "chess_data['Actual Timestamp'] = actual_timestamps[::-1]\n",
    "\n",
    "# Display the corrected chess_data dataframe\n",
    "display(chess_data)\n"
   ],
   "metadata": {
    "collapsed": false,
    "ExecuteTime": {
     "end_time": "2024-12-10T20:08:43.514259400Z",
     "start_time": "2024-12-10T20:08:43.432293Z"
    }
   }
  },
  {
   "cell_type": "code",
   "execution_count": 11,
   "outputs": [
    {
     "name": "stdout",
     "output_type": "stream",
     "text": [
      "[0.1, 1.8, 2.6, 4.7, 5.1, 6.0, 6.5, 10.6, 11.2, 13.7, 15.5, 18.9, 19.6, 21.0, 22.6, 31.0, 33.7, 39.1, 41.2, 68.5, 82.4, 90.9, 93.5, 94.5, 95.2, 101.8, 102.4, 104.2, 105.0, 106.7, 107.9, 112.1, 121.4, 123.1, 124.1, 126.0, 128.2, 132.0, 132.1, 133.2, 133.4, 135.6]\n",
      "[datetime.datetime(2024, 9, 20, 14, 54, 0, 100000), datetime.datetime(2024, 9, 20, 14, 54, 1, 800000), datetime.datetime(2024, 9, 20, 14, 54, 2, 600000), datetime.datetime(2024, 9, 20, 14, 54, 4, 700000), datetime.datetime(2024, 9, 20, 14, 54, 5, 100000), datetime.datetime(2024, 9, 20, 14, 54, 6), datetime.datetime(2024, 9, 20, 14, 54, 6, 500000), datetime.datetime(2024, 9, 20, 14, 54, 10, 600000), datetime.datetime(2024, 9, 20, 14, 54, 11, 200000), datetime.datetime(2024, 9, 20, 14, 54, 13, 700000), datetime.datetime(2024, 9, 20, 14, 54, 15, 500000), datetime.datetime(2024, 9, 20, 14, 54, 18, 900000), datetime.datetime(2024, 9, 20, 14, 54, 19, 600000), datetime.datetime(2024, 9, 20, 14, 54, 21), datetime.datetime(2024, 9, 20, 14, 54, 22, 600000), datetime.datetime(2024, 9, 20, 14, 54, 31), datetime.datetime(2024, 9, 20, 14, 54, 33, 700000), datetime.datetime(2024, 9, 20, 14, 54, 39, 100000), datetime.datetime(2024, 9, 20, 14, 54, 41, 200000), datetime.datetime(2024, 9, 20, 14, 55, 8, 500000), datetime.datetime(2024, 9, 20, 14, 55, 22, 400000), datetime.datetime(2024, 9, 20, 14, 55, 30, 900000), datetime.datetime(2024, 9, 20, 14, 55, 33, 500000), datetime.datetime(2024, 9, 20, 14, 55, 34, 500000), datetime.datetime(2024, 9, 20, 14, 55, 35, 200000), datetime.datetime(2024, 9, 20, 14, 55, 41, 800000), datetime.datetime(2024, 9, 20, 14, 55, 42, 400000), datetime.datetime(2024, 9, 20, 14, 55, 44, 200000), datetime.datetime(2024, 9, 20, 14, 55, 45), datetime.datetime(2024, 9, 20, 14, 55, 46, 700000), datetime.datetime(2024, 9, 20, 14, 55, 47, 900000), datetime.datetime(2024, 9, 20, 14, 55, 52, 100000), datetime.datetime(2024, 9, 20, 14, 56, 1, 400000), datetime.datetime(2024, 9, 20, 14, 56, 3, 100000), datetime.datetime(2024, 9, 20, 14, 56, 4, 100000), datetime.datetime(2024, 9, 20, 14, 56, 6), datetime.datetime(2024, 9, 20, 14, 56, 8, 200000), datetime.datetime(2024, 9, 20, 14, 56, 12), datetime.datetime(2024, 9, 20, 14, 56, 12, 100000), datetime.datetime(2024, 9, 20, 14, 56, 13, 200000), datetime.datetime(2024, 9, 20, 14, 56, 13, 400000), datetime.datetime(2024, 9, 20, 14, 56, 15, 600000)]\n"
     ]
    },
    {
     "data": {
      "text/plain": "<Figure size 1000x600 with 1 Axes>",
      "image/png": "[encoded data removed]"
     },
     "metadata": {},
     "output_type": "display_data"
    }
   ],
   "source": [
    "import datetime\n",
    "import matplotlib.pyplot as plt\n",
    "\n",
    "# Game metadata\n",
    "end_time_str = \"12:56:56\"  # End time from metadata\n",
    "game_start_time = datetime.datetime(2024, 9, 20, 12, 54, 0)  # Adjusted start time\n",
    "game_start_time = game_start_time + datetime.timedelta(hours=2)  # Add 2 hours to match timezone\n",
    "\n",
    "# Extract 'Thinking Time' and 'Current Score' from the DataFrames\n",
    "timestamps = chess_data['Thinking Time'].tolist()\n",
    "scores = current_scores_df['Current Score'].tolist()\n",
    "\n",
    "# Convert timestamps (centiseconds) to cumulative seconds\n",
    "cumulative_seconds = [sum(timestamps[:i+1]) / 10 for i in range(len(timestamps))]\n",
    "print(cumulative_seconds)\n",
    "# Generate real-world timestamps\n",
    "real_timestamps = [game_start_time + datetime.timedelta(seconds=secs) for secs in cumulative_seconds]\n",
    "print(real_timestamps)\n",
    "# Plot the scores against time\n",
    "plt.figure(figsize=(10, 6))\n",
    "plt.plot(real_timestamps, current_scores_df['Current Score'], marker='o')\n",
    "plt.title(\"Chess Game Score Over Time\")\n",
    "plt.xlabel(\"Time\")\n",
    "plt.ylabel(\"Current Score\")\n",
    "plt.grid()\n",
    "plt.xticks(rotation=45)\n",
    "plt.tight_layout()\n",
    "plt.show()\n"
   ],
   "metadata": {
    "collapsed": false,
    "ExecuteTime": {
     "end_time": "2024-12-10T20:08:43.797355Z",
     "start_time": "2024-12-10T20:08:43.447501100Z"
    }
   }
  },
  {
   "cell_type": "code",
   "execution_count": 12,
   "outputs": [
    {
     "name": "stdout",
     "output_type": "stream",
     "text": [
      "42\n",
      "    Current Score        Score Timestamps\n",
      "0            0.25 2024-09-20 14:54:40.500\n",
      "1            0.41 2024-09-20 14:54:42.200\n",
      "2            0.28 2024-09-20 14:54:43.000\n",
      "3            0.28 2024-09-20 14:54:45.100\n",
      "4           -0.16 2024-09-20 14:54:45.500\n",
      "5           -0.16 2024-09-20 14:54:46.400\n",
      "6           -0.19 2024-09-20 14:54:46.900\n",
      "7           -0.19 2024-09-20 14:54:51.000\n",
      "8           -0.21 2024-09-20 14:54:51.600\n",
      "9           -0.21 2024-09-20 14:54:54.100\n",
      "10          -0.32 2024-09-20 14:54:55.900\n",
      "11          -0.10 2024-09-20 14:54:59.300\n",
      "12          -0.27 2024-09-20 14:55:00.000\n",
      "13          -0.08 2024-09-20 14:55:01.400\n",
      "14          -0.21 2024-09-20 14:55:03.000\n",
      "15           1.19 2024-09-20 14:55:11.400\n",
      "16           1.19 2024-09-20 14:55:14.100\n",
      "17           1.19 2024-09-20 14:55:19.500\n",
      "18          -0.30 2024-09-20 14:55:21.600\n",
      "19          -0.30 2024-09-20 14:55:48.900\n",
      "20          -2.82 2024-09-20 14:56:02.800\n",
      "21          -2.82 2024-09-20 14:56:11.300\n",
      "22          -3.76 2024-09-20 14:56:13.900\n",
      "23          -3.76 2024-09-20 14:56:14.900\n",
      "24          -4.23 2024-09-20 14:56:15.600\n",
      "25          -4.23 2024-09-20 14:56:22.200\n",
      "26          -4.23 2024-09-20 14:56:22.800\n",
      "27          -3.96 2024-09-20 14:56:24.600\n",
      "28          -3.96 2024-09-20 14:56:25.400\n",
      "29          -3.05 2024-09-20 14:56:27.100\n",
      "30          -3.18 2024-09-20 14:56:28.300\n",
      "31          -3.18 2024-09-20 14:56:32.500\n",
      "32          -3.36 2024-09-20 14:56:41.800\n",
      "33          -3.36 2024-09-20 14:56:43.500\n",
      "34          -4.10 2024-09-20 14:56:44.500\n",
      "35          -3.53 2024-09-20 14:56:46.400\n",
      "36          -4.53 2024-09-20 14:56:48.600\n",
      "37          -4.53 2024-09-20 14:56:52.400\n",
      "38          -4.53 2024-09-20 14:56:52.500\n",
      "39          -4.53 2024-09-20 14:56:53.600\n",
      "40          -4.53 2024-09-20 14:56:53.800\n",
      "41          -3.99 2024-09-20 14:56:56.000\n"
     ]
    }
   ],
   "source": [
    "import datetime\n",
    "import matplotlib.pyplot as plt\n",
    "\n",
    "# Example DataFrames (replace these with actual data)\n",
    "import pandas as pd\n",
    "\n",
    "\n",
    "# Game metadata\n",
    "end_time_str = \"12:56:56\"  # End time from metadata\n",
    "game_end_time = datetime.datetime.strptime(end_time_str, \"%H:%M:%S\")  # Parse end time\n",
    "game_end_time = game_end_time.replace(year=2024, month=9, day=20)  # Set date\n",
    "game_end_time += datetime.timedelta(hours=2)  # Adjust for timezone\n",
    "\n",
    "# Extract 'Thinking Time' and 'Current Score' from DataFrames\n",
    "timestamps = chess_data['Thinking Time'].tolist()\n",
    "scores = current_scores_df['Current Score'].tolist()\n",
    "\n",
    "# Convert timestamps (centiseconds) to cumulative seconds\n",
    "cumulative_seconds = [sum(timestamps[:i+1]) / 10 for i in range(len(timestamps))]\n",
    "\n",
    "# Calculate real timestamps based on the end time, going backwards\n",
    "real_timestamps = [game_end_time - datetime.timedelta(seconds=(cumulative_seconds[-1] - secs)) for secs in cumulative_seconds]\n",
    "print(len(scores))\n",
    "# Add real_timestamps as a new column in current_scores_df\n",
    "current_scores_df['Score Timestamps'] = real_timestamps\n",
    "# Verify real timestamps\n",
    "print(current_scores_df)\n",
    "\n"
   ],
   "metadata": {
    "collapsed": false,
    "ExecuteTime": {
     "end_time": "2024-12-10T20:08:43.811022600Z",
     "start_time": "2024-12-10T20:08:43.797857800Z"
    }
   }
  },
  {
   "cell_type": "code",
   "execution_count": 13,
   "outputs": [
    {
     "data": {
      "text/plain": "<Figure size 1000x600 with 1 Axes>",
      "image/png": "[encoded data removed]"
     },
     "metadata": {},
     "output_type": "display_data"
    }
   ],
   "source": [
    "plt.figure(figsize=(10, 6))\n",
    "plt.plot(real_timestamps, scores, color='black', linestyle='-', label=\"Score\")\n",
    "#plt.fill_between(real_timestamps, scores, 0, where=[score >= 0 for score in scores], color='white', label=\"White Player\", alpha=0.6)\n",
    "#plt.fill_between(real_timestamps, scores, 0, where=[score < 0 for score in scores], color='black', label=\"Black Player\", alpha=0.6)\n",
    "plt.fill_between(real_timestamps, scores, plt.ylim()[1], color='black', alpha=0.8)  # Fill above line (black)\n",
    "plt.fill_between(real_timestamps, scores, plt.ylim()[0], color='white', alpha=0.8)  # Fill below line (white)\n",
    "\n",
    "# Plot formatting\n",
    "plt.axhline(0, color='gray', linestyle='--', linewidth=1)  # Horizontal line at score = 0\n",
    "plt.title(\"Chess Game Score Over Time\")\n",
    "plt.xlabel(\"Time\")\n",
    "plt.ylabel(\"Current Score\")\n",
    "plt.grid()\n",
    "plt.legend()\n",
    "plt.xticks(rotation=45)\n",
    "plt.tight_layout()\n",
    "plt.show()\n"
   ],
   "metadata": {
    "collapsed": false,
    "ExecuteTime": {
     "end_time": "2024-12-10T20:08:44.129612900Z",
     "start_time": "2024-12-10T20:08:43.815473100Z"
    }
   }
  },
  {
   "cell_type": "code",
   "execution_count": 14,
   "outputs": [
    {
     "ename": "NameError",
     "evalue": "name 'df_rr_filtered' is not defined",
     "output_type": "error",
     "traceback": [
      "\u001B[1;31m---------------------------------------------------------------------------\u001B[0m",
      "\u001B[1;31mNameError\u001B[0m                                 Traceback (most recent call last)",
      "Cell \u001B[1;32mIn[14], line 5\u001B[0m\n\u001B[0;32m      2\u001B[0m start_time \u001B[38;5;241m=\u001B[39m current_scores_df[\u001B[38;5;124m'\u001B[39m\u001B[38;5;124mScore Timestamps\u001B[39m\u001B[38;5;124m'\u001B[39m]\u001B[38;5;241m.\u001B[39mmin()\n\u001B[0;32m      3\u001B[0m end_time \u001B[38;5;241m=\u001B[39m current_scores_df[\u001B[38;5;124m'\u001B[39m\u001B[38;5;124mScore Timestamps\u001B[39m\u001B[38;5;124m'\u001B[39m]\u001B[38;5;241m.\u001B[39mmax()\n\u001B[1;32m----> 5\u001B[0m filtered_rri \u001B[38;5;241m=\u001B[39m \u001B[43mdf_rr_filtered\u001B[49m[(df_rr_filtered[\u001B[38;5;124m'\u001B[39m\u001B[38;5;124madjusted_time\u001B[39m\u001B[38;5;124m'\u001B[39m] \u001B[38;5;241m>\u001B[39m\u001B[38;5;241m=\u001B[39m start_time) \u001B[38;5;241m&\u001B[39m (df_rr_filtered[\u001B[38;5;124m'\u001B[39m\u001B[38;5;124madjusted_time\u001B[39m\u001B[38;5;124m'\u001B[39m] \u001B[38;5;241m<\u001B[39m\u001B[38;5;241m=\u001B[39m end_time)]\n\u001B[0;32m      7\u001B[0m \u001B[38;5;66;03m# Add filtered RRi times as a new column in current_scores_df\u001B[39;00m\n\u001B[0;32m      8\u001B[0m filtered_rri_times \u001B[38;5;241m=\u001B[39m filtered_rri[\u001B[38;5;124m'\u001B[39m\u001B[38;5;124madjusted_time\u001B[39m\u001B[38;5;124m'\u001B[39m]\u001B[38;5;241m.\u001B[39mtolist()\n",
      "\u001B[1;31mNameError\u001B[0m: name 'df_rr_filtered' is not defined"
     ]
    }
   ],
   "source": [
    "# Filter RRI times to match the range in current_scores_df['Timestamps']\n",
    "start_time = current_scores_df['Score Timestamps'].min()\n",
    "end_time = current_scores_df['Score Timestamps'].max()\n",
    "\n",
    "filtered_rri = df_rr_filtered[(df_rr_filtered['adjusted_time'] >= start_time) & (df_rr_filtered['adjusted_time'] <= end_time)]\n",
    "\n",
    "# Add filtered RRi times as a new column in current_scores_df\n",
    "filtered_rri_times = filtered_rri['adjusted_time'].tolist()\n",
    "# Align RRi times with the Timestamps in current_scores_df\n",
    "# Ensure the filtered RRI times are mapped to scores, filling NAs if there are fewer RRi times\n",
    "current_scores_df['Filtered RRi Times'] = pd.Series(filtered_rri_times[:len(current_scores_df)])\n",
    "\n",
    "# Display the updated DataFrame\n",
    "print(current_scores_df)"
   ],
   "metadata": {
    "collapsed": false,
    "ExecuteTime": {
     "end_time": "2024-12-10T20:08:44.224532700Z",
     "start_time": "2024-12-10T20:08:44.132330Z"
    }
   }
  },
  {
   "cell_type": "code",
   "execution_count": 15,
   "outputs": [
    {
     "name": "stdout",
     "output_type": "stream",
     "text": [
      "Filtered RRi Data Range: 2024-09-20 14:54:40.867000064 to 2024-09-20 14:56:55.947000064\n",
      "                    RRi Timestamp  RRi\n",
      "36  2024-09-20 14:54:40.867000064  840\n",
      "37  2024-09-20 14:54:41.692000000  832\n",
      "38  2024-09-20 14:54:42.516000000  816\n",
      "39  2024-09-20 14:54:43.323000064  816\n",
      "40  2024-09-20 14:54:44.155000064  824\n",
      "..                            ...  ...\n",
      "200 2024-09-20 14:56:52.980000000  736\n",
      "201 2024-09-20 14:56:53.724000000  744\n",
      "202 2024-09-20 14:56:54.467000064  744\n",
      "203 2024-09-20 14:56:55.204000000  744\n",
      "204 2024-09-20 14:56:55.947000064  736\n",
      "\n",
      "[169 rows x 2 columns]\n"
     ]
    },
    {
     "name": "stderr",
     "output_type": "stream",
     "text": [
      "C:\\Users\\Dominik\\AppData\\Local\\Temp\\ipykernel_25628\\1124293796.py:30: SettingWithCopyWarning: \n",
      "A value is trying to be set on a copy of a slice from a DataFrame\n",
      "\n",
      "See the caveats in the documentation: https://pandas.pydata.org/pandas-docs/stable/user_guide/indexing.html#returning-a-view-versus-a-copy\n",
      "  filtered_rri_df.rename(columns={\n"
     ]
    }
   ],
   "source": [
    "# Step 1: Load the RRi Data\n",
    "# Example CSV file path (replace with your actual file path)\n",
    "rr_file = 'Data/RR_2024_09_20_14_54.csv'\n",
    "\n",
    "# Load the RRi data\n",
    "df_rr = pd.read_csv(rr_file)\n",
    "\n",
    "# Convert timestamp to numeric\n",
    "df_rr['timestamp'] = pd.to_numeric(df_rr['timestamp'], errors='coerce')\n",
    "\n",
    "# Convert timestamp to datetime and adjust to local timezone (UTC+2)\n",
    "df_rr['adjusted_time'] = pd.to_datetime(df_rr['timestamp'] / 1000, unit='s', errors='coerce')\n",
    "df_rr['adjusted_time'] = df_rr['adjusted_time'] + pd.DateOffset(hours=2)\n",
    "\n",
    "# Step 2: Filter the RRi Data\n",
    "# Define the end time for filtering\n",
    "end_time = pd.to_datetime(\"2024-09-20 14:56:56\")\n",
    "start_time = pd.to_datetime(\"2024-09-20 14:54:40.500\")\n",
    "\n",
    "# Filter the RRi data within the chess game's timeframe\n",
    "df_rr_filtered = df_rr[(df_rr['adjusted_time'] >= start_time) & (df_rr['adjusted_time'] <= end_time)]\n",
    "\n",
    "# Print the filtered RRi data range\n",
    "print(f\"Filtered RRi Data Range: {df_rr_filtered['adjusted_time'].min()} to {df_rr_filtered['adjusted_time'].max()}\")\n",
    "\n",
    "# Step 3: Create a new DataFrame with the filtered timestamps and sample values\n",
    "filtered_rri_df = df_rr_filtered[['adjusted_time', 'sample']]\n",
    "\n",
    "# Rename columns for clarity (optional, based on your existing dataframe)\n",
    "filtered_rri_df.rename(columns={\n",
    "    'adjusted_time': 'RRi Timestamp',\n",
    "    'sample': 'RRi'\n",
    "}, inplace=True)\n",
    "\n",
    "# Display the new filtered DataFrame\n",
    "print(filtered_rri_df)\n"
   ],
   "metadata": {
    "collapsed": false,
    "ExecuteTime": {
     "end_time": "2024-12-10T20:08:57.153286300Z",
     "start_time": "2024-12-10T20:08:57.092369300Z"
    }
   }
  },
  {
   "cell_type": "code",
   "execution_count": 16,
   "outputs": [
    {
     "data": {
      "text/plain": "                    RRi Timestamp  RRi\n36  2024-09-20 14:54:40.867000064  840\n37  2024-09-20 14:54:41.692000000  832\n38  2024-09-20 14:54:42.516000000  816\n39  2024-09-20 14:54:43.323000064  816\n40  2024-09-20 14:54:44.155000064  824\n..                            ...  ...\n200 2024-09-20 14:56:52.980000000  736\n201 2024-09-20 14:56:53.724000000  744\n202 2024-09-20 14:56:54.467000064  744\n203 2024-09-20 14:56:55.204000000  744\n204 2024-09-20 14:56:55.947000064  736\n\n[169 rows x 2 columns]",
      "text/html": "<div>\n<style scoped>\n    .dataframe tbody tr th:only-of-type {\n        vertical-align: middle;\n    }\n\n    .dataframe tbody tr th {\n        vertical-align: top;\n    }\n\n    .dataframe thead th {\n        text-align: right;\n    }\n</style>\n<table border=\"1\" class=\"dataframe\">\n  <thead>\n    <tr style=\"text-align: right;\">\n      <th></th>\n      <th>RRi Timestamp</th>\n      <th>RRi</th>\n    </tr>\n  </thead>\n  <tbody>\n    <tr>\n      <th>36</th>\n      <td>2024-09-20 14:54:40.867000064</td>\n      <td>840</td>\n    </tr>\n    <tr>\n      <th>37</th>\n      <td>2024-09-20 14:54:41.692000000</td>\n      <td>832</td>\n    </tr>\n    <tr>\n      <th>38</th>\n      <td>2024-09-20 14:54:42.516000000</td>\n      <td>816</td>\n    </tr>\n    <tr>\n      <th>39</th>\n      <td>2024-09-20 14:54:43.323000064</td>\n      <td>816</td>\n    </tr>\n    <tr>\n      <th>40</th>\n      <td>2024-09-20 14:54:44.155000064</td>\n      <td>824</td>\n    </tr>\n    <tr>\n      <th>...</th>\n      <td>...</td>\n      <td>...</td>\n    </tr>\n    <tr>\n      <th>200</th>\n      <td>2024-09-20 14:56:52.980000000</td>\n      <td>736</td>\n    </tr>\n    <tr>\n      <th>201</th>\n      <td>2024-09-20 14:56:53.724000000</td>\n      <td>744</td>\n    </tr>\n    <tr>\n      <th>202</th>\n      <td>2024-09-20 14:56:54.467000064</td>\n      <td>744</td>\n    </tr>\n    <tr>\n      <th>203</th>\n      <td>2024-09-20 14:56:55.204000000</td>\n      <td>744</td>\n    </tr>\n    <tr>\n      <th>204</th>\n      <td>2024-09-20 14:56:55.947000064</td>\n      <td>736</td>\n    </tr>\n  </tbody>\n</table>\n<p>169 rows × 2 columns</p>\n</div>"
     },
     "execution_count": 16,
     "metadata": {},
     "output_type": "execute_result"
    }
   ],
   "source": [
    "filtered_rri_df"
   ],
   "metadata": {
    "collapsed": false,
    "ExecuteTime": {
     "end_time": "2024-12-10T20:08:58.542058300Z",
     "start_time": "2024-12-10T20:08:58.524626Z"
    }
   }
  },
  {
   "cell_type": "code",
   "execution_count": 17,
   "outputs": [],
   "source": [
    "\n",
    "# Step 1: Filter RRI data to match the range of `current_scores_df['Timestamps']`\n",
    "start_time = current_scores_df['Score Timestamps'].min()\n",
    "end_time = current_scores_df['Score Timestamps'].max()\n",
    "\n",
    "filtered_rri_df = filtered_rri_df[\n",
    "    (filtered_rri_df['RRi Timestamp'] >= start_time) &\n",
    "    (filtered_rri_df['RRi Timestamp'] <= end_time)\n",
    "]\n",
    "\n",
    "# Step 2: Map RRI data to current scores timestamps\n",
    "# For each timestamp in current_scores_df, find the nearest RRI timestamp\n",
    "filtered_rri_times = []\n",
    "filtered_rri_values = []\n",
    "\n",
    "for timestamp in current_scores_df['Score Timestamps']:\n",
    "    # Find the closest RRI timestamp\n",
    "    closest_rri_row = filtered_rri_df.iloc[(filtered_rri_df['RRi Timestamp'] - timestamp).abs().argsort()[:1]]\n",
    "    filtered_rri_times.append(closest_rri_row['RRi Timestamp'].values[0])\n",
    "    filtered_rri_values.append(closest_rri_row['RRi'].values[0])\n",
    "\n",
    "# Step 3: Add the mapped RRI times and values to the current_scores_df\n",
    "current_scores_df['Mapped RRi Timestamp'] = filtered_rri_times\n",
    "current_scores_df['Mapped RRi'] = filtered_rri_values\n",
    "\n"
   ],
   "metadata": {
    "collapsed": false,
    "ExecuteTime": {
     "end_time": "2024-12-10T20:09:00.285800800Z",
     "start_time": "2024-12-10T20:09:00.243305800Z"
    }
   }
  },
  {
   "cell_type": "code",
   "execution_count": 18,
   "outputs": [
    {
     "ename": "KeyError",
     "evalue": "\"['Filtered RRi Times'] not found in axis\"",
     "output_type": "error",
     "traceback": [
      "\u001B[1;31m---------------------------------------------------------------------------\u001B[0m",
      "\u001B[1;31mKeyError\u001B[0m                                  Traceback (most recent call last)",
      "Cell \u001B[1;32mIn[18], line 1\u001B[0m\n\u001B[1;32m----> 1\u001B[0m \u001B[43mcurrent_scores_df\u001B[49m\u001B[38;5;241;43m.\u001B[39;49m\u001B[43mdrop\u001B[49m\u001B[43m(\u001B[49m\u001B[43mcolumns\u001B[49m\u001B[38;5;241;43m=\u001B[39;49m\u001B[38;5;124;43m'\u001B[39;49m\u001B[38;5;124;43mFiltered RRi Times\u001B[39;49m\u001B[38;5;124;43m'\u001B[39;49m\u001B[43m,\u001B[49m\u001B[43m \u001B[49m\u001B[43minplace\u001B[49m\u001B[38;5;241;43m=\u001B[39;49m\u001B[38;5;28;43;01mTrue\u001B[39;49;00m\u001B[43m)\u001B[49m\n\u001B[0;32m      2\u001B[0m current_scores_df\n",
      "File \u001B[1;32m~\\PycharmProjects\\Thesis_1_pycharm\\SportLab\\lib\\site-packages\\pandas\\core\\frame.py:5347\u001B[0m, in \u001B[0;36mDataFrame.drop\u001B[1;34m(self, labels, axis, index, columns, level, inplace, errors)\u001B[0m\n\u001B[0;32m   5199\u001B[0m \u001B[38;5;28;01mdef\u001B[39;00m \u001B[38;5;21mdrop\u001B[39m(\n\u001B[0;32m   5200\u001B[0m     \u001B[38;5;28mself\u001B[39m,\n\u001B[0;32m   5201\u001B[0m     labels: IndexLabel \u001B[38;5;241m|\u001B[39m \u001B[38;5;28;01mNone\u001B[39;00m \u001B[38;5;241m=\u001B[39m \u001B[38;5;28;01mNone\u001B[39;00m,\n\u001B[1;32m   (...)\u001B[0m\n\u001B[0;32m   5208\u001B[0m     errors: IgnoreRaise \u001B[38;5;241m=\u001B[39m \u001B[38;5;124m\"\u001B[39m\u001B[38;5;124mraise\u001B[39m\u001B[38;5;124m\"\u001B[39m,\n\u001B[0;32m   5209\u001B[0m ) \u001B[38;5;241m-\u001B[39m\u001B[38;5;241m>\u001B[39m DataFrame \u001B[38;5;241m|\u001B[39m \u001B[38;5;28;01mNone\u001B[39;00m:\n\u001B[0;32m   5210\u001B[0m \u001B[38;5;250m    \u001B[39m\u001B[38;5;124;03m\"\"\"\u001B[39;00m\n\u001B[0;32m   5211\u001B[0m \u001B[38;5;124;03m    Drop specified labels from rows or columns.\u001B[39;00m\n\u001B[0;32m   5212\u001B[0m \n\u001B[1;32m   (...)\u001B[0m\n\u001B[0;32m   5345\u001B[0m \u001B[38;5;124;03m            weight  1.0     0.8\u001B[39;00m\n\u001B[0;32m   5346\u001B[0m \u001B[38;5;124;03m    \"\"\"\u001B[39;00m\n\u001B[1;32m-> 5347\u001B[0m     \u001B[38;5;28;01mreturn\u001B[39;00m \u001B[38;5;28;43msuper\u001B[39;49m\u001B[43m(\u001B[49m\u001B[43m)\u001B[49m\u001B[38;5;241;43m.\u001B[39;49m\u001B[43mdrop\u001B[49m\u001B[43m(\u001B[49m\n\u001B[0;32m   5348\u001B[0m \u001B[43m        \u001B[49m\u001B[43mlabels\u001B[49m\u001B[38;5;241;43m=\u001B[39;49m\u001B[43mlabels\u001B[49m\u001B[43m,\u001B[49m\n\u001B[0;32m   5349\u001B[0m \u001B[43m        \u001B[49m\u001B[43maxis\u001B[49m\u001B[38;5;241;43m=\u001B[39;49m\u001B[43maxis\u001B[49m\u001B[43m,\u001B[49m\n\u001B[0;32m   5350\u001B[0m \u001B[43m        \u001B[49m\u001B[43mindex\u001B[49m\u001B[38;5;241;43m=\u001B[39;49m\u001B[43mindex\u001B[49m\u001B[43m,\u001B[49m\n\u001B[0;32m   5351\u001B[0m \u001B[43m        \u001B[49m\u001B[43mcolumns\u001B[49m\u001B[38;5;241;43m=\u001B[39;49m\u001B[43mcolumns\u001B[49m\u001B[43m,\u001B[49m\n\u001B[0;32m   5352\u001B[0m \u001B[43m        \u001B[49m\u001B[43mlevel\u001B[49m\u001B[38;5;241;43m=\u001B[39;49m\u001B[43mlevel\u001B[49m\u001B[43m,\u001B[49m\n\u001B[0;32m   5353\u001B[0m \u001B[43m        \u001B[49m\u001B[43minplace\u001B[49m\u001B[38;5;241;43m=\u001B[39;49m\u001B[43minplace\u001B[49m\u001B[43m,\u001B[49m\n\u001B[0;32m   5354\u001B[0m \u001B[43m        \u001B[49m\u001B[43merrors\u001B[49m\u001B[38;5;241;43m=\u001B[39;49m\u001B[43merrors\u001B[49m\u001B[43m,\u001B[49m\n\u001B[0;32m   5355\u001B[0m \u001B[43m    \u001B[49m\u001B[43m)\u001B[49m\n",
      "File \u001B[1;32m~\\PycharmProjects\\Thesis_1_pycharm\\SportLab\\lib\\site-packages\\pandas\\core\\generic.py:4711\u001B[0m, in \u001B[0;36mNDFrame.drop\u001B[1;34m(self, labels, axis, index, columns, level, inplace, errors)\u001B[0m\n\u001B[0;32m   4709\u001B[0m \u001B[38;5;28;01mfor\u001B[39;00m axis, labels \u001B[38;5;129;01min\u001B[39;00m axes\u001B[38;5;241m.\u001B[39mitems():\n\u001B[0;32m   4710\u001B[0m     \u001B[38;5;28;01mif\u001B[39;00m labels \u001B[38;5;129;01mis\u001B[39;00m \u001B[38;5;129;01mnot\u001B[39;00m \u001B[38;5;28;01mNone\u001B[39;00m:\n\u001B[1;32m-> 4711\u001B[0m         obj \u001B[38;5;241m=\u001B[39m \u001B[43mobj\u001B[49m\u001B[38;5;241;43m.\u001B[39;49m\u001B[43m_drop_axis\u001B[49m\u001B[43m(\u001B[49m\u001B[43mlabels\u001B[49m\u001B[43m,\u001B[49m\u001B[43m \u001B[49m\u001B[43maxis\u001B[49m\u001B[43m,\u001B[49m\u001B[43m \u001B[49m\u001B[43mlevel\u001B[49m\u001B[38;5;241;43m=\u001B[39;49m\u001B[43mlevel\u001B[49m\u001B[43m,\u001B[49m\u001B[43m \u001B[49m\u001B[43merrors\u001B[49m\u001B[38;5;241;43m=\u001B[39;49m\u001B[43merrors\u001B[49m\u001B[43m)\u001B[49m\n\u001B[0;32m   4713\u001B[0m \u001B[38;5;28;01mif\u001B[39;00m inplace:\n\u001B[0;32m   4714\u001B[0m     \u001B[38;5;28mself\u001B[39m\u001B[38;5;241m.\u001B[39m_update_inplace(obj)\n",
      "File \u001B[1;32m~\\PycharmProjects\\Thesis_1_pycharm\\SportLab\\lib\\site-packages\\pandas\\core\\generic.py:4753\u001B[0m, in \u001B[0;36mNDFrame._drop_axis\u001B[1;34m(self, labels, axis, level, errors, only_slice)\u001B[0m\n\u001B[0;32m   4751\u001B[0m         new_axis \u001B[38;5;241m=\u001B[39m axis\u001B[38;5;241m.\u001B[39mdrop(labels, level\u001B[38;5;241m=\u001B[39mlevel, errors\u001B[38;5;241m=\u001B[39merrors)\n\u001B[0;32m   4752\u001B[0m     \u001B[38;5;28;01melse\u001B[39;00m:\n\u001B[1;32m-> 4753\u001B[0m         new_axis \u001B[38;5;241m=\u001B[39m \u001B[43maxis\u001B[49m\u001B[38;5;241;43m.\u001B[39;49m\u001B[43mdrop\u001B[49m\u001B[43m(\u001B[49m\u001B[43mlabels\u001B[49m\u001B[43m,\u001B[49m\u001B[43m \u001B[49m\u001B[43merrors\u001B[49m\u001B[38;5;241;43m=\u001B[39;49m\u001B[43merrors\u001B[49m\u001B[43m)\u001B[49m\n\u001B[0;32m   4754\u001B[0m     indexer \u001B[38;5;241m=\u001B[39m axis\u001B[38;5;241m.\u001B[39mget_indexer(new_axis)\n\u001B[0;32m   4756\u001B[0m \u001B[38;5;66;03m# Case for non-unique axis\u001B[39;00m\n\u001B[0;32m   4757\u001B[0m \u001B[38;5;28;01melse\u001B[39;00m:\n",
      "File \u001B[1;32m~\\PycharmProjects\\Thesis_1_pycharm\\SportLab\\lib\\site-packages\\pandas\\core\\indexes\\base.py:6992\u001B[0m, in \u001B[0;36mIndex.drop\u001B[1;34m(self, labels, errors)\u001B[0m\n\u001B[0;32m   6990\u001B[0m \u001B[38;5;28;01mif\u001B[39;00m mask\u001B[38;5;241m.\u001B[39many():\n\u001B[0;32m   6991\u001B[0m     \u001B[38;5;28;01mif\u001B[39;00m errors \u001B[38;5;241m!=\u001B[39m \u001B[38;5;124m\"\u001B[39m\u001B[38;5;124mignore\u001B[39m\u001B[38;5;124m\"\u001B[39m:\n\u001B[1;32m-> 6992\u001B[0m         \u001B[38;5;28;01mraise\u001B[39;00m \u001B[38;5;167;01mKeyError\u001B[39;00m(\u001B[38;5;124mf\u001B[39m\u001B[38;5;124m\"\u001B[39m\u001B[38;5;132;01m{\u001B[39;00mlabels[mask]\u001B[38;5;241m.\u001B[39mtolist()\u001B[38;5;132;01m}\u001B[39;00m\u001B[38;5;124m not found in axis\u001B[39m\u001B[38;5;124m\"\u001B[39m)\n\u001B[0;32m   6993\u001B[0m     indexer \u001B[38;5;241m=\u001B[39m indexer[\u001B[38;5;241m~\u001B[39mmask]\n\u001B[0;32m   6994\u001B[0m \u001B[38;5;28;01mreturn\u001B[39;00m \u001B[38;5;28mself\u001B[39m\u001B[38;5;241m.\u001B[39mdelete(indexer)\n",
      "\u001B[1;31mKeyError\u001B[0m: \"['Filtered RRi Times'] not found in axis\""
     ]
    }
   ],
   "source": [
    "current_scores_df.drop(columns='Filtered RRi Times', inplace=True)\n",
    "current_scores_df"
   ],
   "metadata": {
    "collapsed": false,
    "ExecuteTime": {
     "end_time": "2024-12-10T20:09:02.666680200Z",
     "start_time": "2024-12-10T20:09:01.349539Z"
    }
   }
  },
  {
   "cell_type": "code",
   "execution_count": null,
   "outputs": [],
   "source": [
    "output_path = \"Data/current_scores_chess.csv\"\n",
    "current_scores_df.to_csv(output_path, index=False)"
   ],
   "metadata": {
    "collapsed": false,
    "ExecuteTime": {
     "start_time": "2024-12-10T20:08:44.199387800Z"
    }
   }
  },
  {
   "cell_type": "code",
   "execution_count": null,
   "outputs": [],
   "source": [
    "filtered_rri_df"
   ],
   "metadata": {
    "collapsed": false,
    "ExecuteTime": {
     "start_time": "2024-12-10T20:08:44.200645400Z"
    }
   }
  },
  {
   "cell_type": "code",
   "execution_count": null,
   "outputs": [],
   "source": [
    "# Calculate the correlation between Mapped RRi and Current Score\n",
    "correlation = current_scores_df['Mapped RRi'].corr(current_scores_df['Current Score'])\n",
    "\n",
    "# Display the correlation result\n",
    "print(f\"Correlation between Mapped RRi and Current Score: {correlation}\")\n"
   ],
   "metadata": {
    "collapsed": false,
    "ExecuteTime": {
     "start_time": "2024-12-10T20:08:44.201757500Z"
    }
   }
  },
  {
   "cell_type": "code",
   "execution_count": null,
   "outputs": [],
   "source": [],
   "metadata": {
    "collapsed": false,
    "ExecuteTime": {
     "start_time": "2024-12-10T20:08:44.202863300Z"
    }
   }
  }
 ],
 "metadata": {
  "kernelspec": {
   "display_name": "Python 3",
   "language": "python",
   "name": "python3"
  },
  "language_info": {
   "codemirror_mode": {
    "name": "ipython",
    "version": 2
   },
   "file_extension": ".py",
   "mimetype": "text/x-python",
   "name": "python",
   "nbconvert_exporter": "python",
   "pygments_lexer": "ipython2",
   "version": "2.7.6"
  }
 },
 "nbformat": 4,
 "nbformat_minor": 0
}
